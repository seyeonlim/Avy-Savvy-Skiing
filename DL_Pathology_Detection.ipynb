{
  "nbformat": 4,
  "nbformat_minor": 0,
  "metadata": {
    "colab": {
      "provenance": [],
      "include_colab_link": true
    },
    "kernelspec": {
      "name": "python3",
      "display_name": "Python 3"
    },
    "language_info": {
      "name": "python"
    }
  },
  "cells": [
    {
      "cell_type": "markdown",
      "metadata": {
        "id": "view-in-github",
        "colab_type": "text"
      },
      "source": [
        "<a href=\"https://colab.research.google.com/github/seyeonlim/Avy-Savvy-Skiing/blob/main/DL_Pathology_Detection.ipynb\" target=\"_parent\"><img src=\"https://colab.research.google.com/assets/colab-badge.svg\" alt=\"Open In Colab\"/></a>"
      ]
    },
    {
      "cell_type": "code",
      "execution_count": null,
      "metadata": {
        "id": "Sn0rfKRwBPqF",
        "colab": {
          "base_uri": "https://localhost:8080/"
        },
        "outputId": "e986b428-e103-4ebb-ccd3-1222a59c9e00"
      },
      "outputs": [
        {
          "output_type": "stream",
          "name": "stdout",
          "text": [
            "Mounted at /content/drive\n"
          ]
        }
      ],
      "source": [
        "from google.colab import drive\n",
        "drive.mount('/content/drive')"
      ]
    },
    {
      "cell_type": "code",
      "source": [
        "import pandas as pd\n",
        "import numpy as np"
      ],
      "metadata": {
        "id": "F12MQQRdxsqx"
      },
      "execution_count": null,
      "outputs": []
    },
    {
      "cell_type": "code",
      "source": [
        "drive.mount('/content/gdrive')"
      ],
      "metadata": {
        "colab": {
          "base_uri": "https://localhost:8080/"
        },
        "id": "24Lf3qT7y8uT",
        "outputId": "a31fb257-4402-43f8-e634-e865d18a3f56"
      },
      "execution_count": null,
      "outputs": [
        {
          "output_type": "stream",
          "name": "stdout",
          "text": [
            "Mounted at /content/gdrive\n"
          ]
        }
      ]
    },
    {
      "cell_type": "code",
      "source": [
        "# prompt: import csv file in my google drive\n",
        "import pandas as pd\n",
        "\n",
        "measurements = pd.read_csv('/content/gdrive/Shareddrives/DL_Pathology_Detection_Special_Studies/Measurements.csv')\n",
        "\n",
        "identifiers = [\n",
        "    \"Aithal_2013\",\n",
        "    \"Aithal_2014\",\n",
        "    \"Aithal_2014b\",\n",
        "    \"Aithal_2015\",\n",
        "    \"Aithal_2017a\",\n",
        "    \"Aithal_2017b\",\n",
        "    \"Aithal_2022\",\n",
        "    \"AlMakadma_2021\",\n",
        "    \"Ellison_2012\",\n",
        "    \"Hunter_2016\",\n",
        "    \"Merchant_2010\",\n",
        "    \"Merchant_2021\",\n",
        "    \"Myers_2018\",\n",
        "    \"Pitaro_2016\",\n",
        "    \"Sanford_2009\",\n",
        "    \"Sanford_2014\",\n",
        "    \"Voss_2016\",\n",
        "    \"Werner_2010\"\n",
        "]\n",
        "\n",
        "print(measurements.head())\n"
      ],
      "metadata": {
        "id": "ONyFzDvExnzG",
        "colab": {
          "base_uri": "https://localhost:8080/"
        },
        "outputId": "d4089d36-cc29-4a71-9ad0-597a46fb86f1"
      },
      "execution_count": null,
      "outputs": [
        {
          "output_type": "stream",
          "name": "stdout",
          "text": [
            "  Identifier  SubjectNumber  Session   Ear Instrument   Age AgeCategory  \\\n",
            "0  Abur_2014              1        1  Left     HearID  20.0       Adult   \n",
            "1  Abur_2014              1        1  Left     HearID  20.0       Adult   \n",
            "2  Abur_2014              1        1  Left     HearID  20.0       Adult   \n",
            "3  Abur_2014              1        1  Left     HearID  20.0       Adult   \n",
            "4  Abur_2014              1        1  Left     HearID  20.0       Adult   \n",
            "\n",
            "  EarStatus  TPP  AreaCanal  PressureCanal SweepDirection  Frequency  \\\n",
            "0    Normal -5.0   0.000044              0        Ambient    210.938   \n",
            "1    Normal -5.0   0.000044              0        Ambient    234.375   \n",
            "2    Normal -5.0   0.000044              0        Ambient    257.812   \n",
            "3    Normal -5.0   0.000044              0        Ambient    281.250   \n",
            "4    Normal -5.0   0.000044              0        Ambient    304.688   \n",
            "\n",
            "   Absorbance         Zmag      Zang  \n",
            "0    0.033338  113780000.0 -0.233504  \n",
            "1    0.031571  103585000.0 -0.235778  \n",
            "2    0.040575   92951700.0 -0.233482  \n",
            "3    0.043840   86058000.0 -0.233421  \n",
            "4    0.048640   79492800.0 -0.232931  \n"
          ]
        }
      ]
    },
    {
      "cell_type": "code",
      "source": [
        "import matplotlib.pyplot as plt\n",
        "\n",
        "def create_scatterplot(x, y, xlabel, ylabel, title, colors, ylog = False):\n",
        "  # axis goes from 500 to 6000\n",
        "  \"\"\"\n",
        "  Creates a scatter plot.\n",
        "\n",
        "  Args:\n",
        "    x: The x-axis data.\n",
        "    y: The y-axis data.\n",
        "    xlabel: The label for the x-axis.\n",
        "    ylabel: The label for the y-axis.\n",
        "    title: The title of the plot.\n",
        "  \"\"\"\n",
        "  fig = plt.figure()\n",
        "  plt.scatter(x, y, s = 1, c = colors)\n",
        "  plt.xlabel(xlabel)\n",
        "  plt.xscale('log')  # Set x-axis to log scale\n",
        "  if ylog:\n",
        "    plt.yscale('log') # set y to log scale\n",
        "  plt.ylabel(ylabel)\n",
        "  plt.title(title)\n",
        "  #plt.show()\n",
        "  return fig\n",
        "\n",
        "#returns log of freq\n",
        "def get_freq(pi_identifier, data):\n",
        "  return data[data['Identifier'] == pi_identifier]['Frequency']\n",
        "\n",
        "def get_absorbance(pi_identifier, data):\n",
        "  return data[data['Identifier'] == pi_identifier]['Absorbance']\n",
        "\n",
        "#returns log of mag\n",
        "def get_zmag(pi_identifier, data):\n",
        "  return data[data['Identifier'] == pi_identifier]['Zmag']\n",
        "\n",
        "def get_zang(pi_identifier, data):\n",
        "  return data[data['Identifier'] == pi_identifier]['Zang']\n",
        "\n",
        "def get_leftright_colors(pi_identifier, data):\n",
        "  return data[data['Identifier'] == pi_identifier]['Ear'].map({'Left':'tab:blue', 'Right':'tab:red'})\n",
        "\n",
        "# Get the first row's' instrument - But does each publication use the same instrument for all measurements?\n",
        "def get_instrument(pi_identifier, data):\n",
        "  return data[data['Identifier'] == pi_identifier]['Instrument'].iloc[0]\n",
        "\n",
        "#cyan for normal, black for all others\n",
        "def get_ear_status_colors(pi_identifier, data):\n",
        "  ear_status = data[data['Identifier'] == pi_identifier]['EarStatus']\n",
        "  colors = ['cyan' if category == 'Normal' else 'black' for category in ear_status]\n",
        "  return colors"
      ],
      "metadata": {
        "id": "_BPP-4t24Yqz"
      },
      "execution_count": null,
      "outputs": []
    },
    {
      "cell_type": "code",
      "source": [
        "np.unique(get_ear_status_colors(\"Aithal_2014b\", measurements))"
      ],
      "metadata": {
        "colab": {
          "base_uri": "https://localhost:8080/"
        },
        "id": "Y_5reXgt-Nc0",
        "outputId": "9141caee-caf7-4a45-8001-4e41742aa108"
      },
      "execution_count": null,
      "outputs": [
        {
          "output_type": "execute_result",
          "data": {
            "text/plain": [
              "array(['tab:cyan', 'tab:red'], dtype=object)"
            ]
          },
          "metadata": {},
          "execution_count": 16
        }
      ]
    },
    {
      "cell_type": "code",
      "source": [
        "from matplotlib.backends.backend_pdf import PdfPages\n",
        "\n",
        "with PdfPages('baby-wai-graphs.pdf') as pdf:\n",
        "  for identifier in identifiers:\n",
        "    # get frequency\n",
        "    freq = get_freq(identifier, measurements)\n",
        "\n",
        "    #leftright = get_leftright_colors(identifier, measurements)\n",
        "    ear_status_colors = get_ear_status_colors(identifier, measurements)\n",
        "    # create scatter for absorbance\n",
        "    absorbance = get_absorbance(identifier, measurements)\n",
        "    instrument = get_instrument(identifier, measurements)\n",
        "\n",
        "    fig = create_scatterplot(freq, absorbance, \"frequency\", \"absorbance\", identifier + \" frequency vs. absorbance\" + \" (\" + str(instrument) + \")\", ear_status_colors)\n",
        "    pdf.savefig(fig)  # Save the current figure to the PDF\n",
        "    plt.close()  # Close the figure\n",
        "\n",
        "    #zmag\n",
        "    zmag = get_zmag(identifier, measurements)\n",
        "    if not np.isnan(zmag.iloc[0]):\n",
        "      fig = create_scatterplot(freq, zmag, \"frequency\", \"Magnitude\", identifier + \" frequency vs. magnitude\" + \" (\" + str(instrument) + \")\", ear_status_colors, ylog=True)\n",
        "      pdf.savefig(fig)  # Save the current figure to the PDF\n",
        "      plt.close()  # Close the figure\n",
        "\n",
        "    #zang\n",
        "    zang = get_zang(identifier, measurements)\n",
        "    if not np.isnan(zang.iloc[0]):\n",
        "      fig = create_scatterplot(freq, zang, \"frequency\", \"Angle\", identifier + \" frequency vs. angle\" + \" (\" + str(instrument) + \")\", ear_status_colors)\n",
        "      pdf.savefig(fig)  # Save the current figure to the PDF\n",
        "      plt.close()  # Close the figure\n"
      ],
      "metadata": {
        "id": "sJHWLx2J8g09"
      },
      "execution_count": null,
      "outputs": []
    },
    {
      "cell_type": "markdown",
      "source": [
        "**Identifiers for publications with Infant measurements**\n",
        "\n",
        "Aithal_2013\n",
        "Aithal_2014\n",
        "Aithal_2014b\n",
        "Aithal_2015\n",
        "Aithal_2017a\n",
        "Aithal_2017b\n",
        "Aithal_2022\n",
        "AlMakadma_2021\n",
        "Ellison_2012\n",
        "Hunter_2016\n",
        "Merchant_2010\n",
        "Merchant_2021\n",
        "Myers_2018\n",
        "Pitaro_2016\n",
        "Sanford_2009\n",
        "Voss_2016\n",
        "Werner_2010\n",
        "\n",
        "cyan, black for easy seeing, color code normal, abnormal\n",
        "log log scale for magnitude v freq\n",
        "freq is always log scale\n",
        "\n",
        "use aithal, ellison, sanford, using only absorbance\n",
        "- may not have same frequencies, could do interpolation\n",
        "- do one training w/o modifying dataset - sanford and esllison\n",
        "- ((f,a), {n,a}) where f, a are vectors\n",
        "- confusion matrix, possible for showing accuracy\n"
      ],
      "metadata": {
        "id": "MkkmJ8uN6Hwz"
      }
    },
    {
      "cell_type": "markdown",
      "source": [
        "Test Change\n",
        "\n",
        "After you have made changes to your notebook, you can commit and push them to the repository. To do so from within a Colab notebook, click File → Save a copy in GitHub. You will be prompted to add a commit message, and after you click OK, the notebook will be pushed to your repository."
      ],
      "metadata": {
        "id": "xpXcL3btU8i3"
      }
    }
  ]
}